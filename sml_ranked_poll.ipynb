{
 "cells": [
  {
   "cell_type": "code",
   "execution_count": 2,
   "id": "3fc2c010",
   "metadata": {},
   "outputs": [],
   "source": [
    "import pandas as pd\n",
    "\n"
   ]
  },
  {
   "cell_type": "code",
   "execution_count": 3,
   "id": "b1cd7e0c",
   "metadata": {},
   "outputs": [],
   "source": [
    "# Read the CSV file into a pandas dataframe\n",
    "df = pd.read_csv('vote_totals_5_18.csv')\n",
    "\n",
    "# Set the candidate column as the index\n",
    "df.set_index('candidate', inplace=True)\n"
   ]
  },
  {
   "cell_type": "code",
   "execution_count": 4,
   "id": "88c8dd13",
   "metadata": {},
   "outputs": [
    {
     "name": "stdout",
     "output_type": "stream",
     "text": [
      "The ranked order winner is Moose Meadows with 9.0 votes!\n",
      "The pass-the-post winner is Moose Meadows with 8 votes!\n"
     ]
    }
   ],
   "source": [
    "# Calculate second place votes by dividing the second_choice_total column by 2\n",
    "second_place_votes = df['second_choice_total'] / 2\n",
    "\n",
    "# Combine first and second place votes\n",
    "total_votes = df['first_choice_total'].add(second_place_votes, fill_value=0)\n",
    "\n",
    "# Determine the winner\n",
    "winner = total_votes.idxmax()\n",
    "ptp_winner = df['first_choice_total'].idxmax()\n",
    "\n",
    "print(f\"The ranked order winner is {winner} with {total_votes[winner]} votes!\")\n",
    "print(f\"The pass-the-post winner is {ptp_winner} with {df['first_choice_total'][ptp_winner]} votes!\")"
   ]
  }
 ],
 "metadata": {
  "kernelspec": {
   "display_name": "Python 3 (ipykernel)",
   "language": "python",
   "name": "python3"
  },
  "language_info": {
   "codemirror_mode": {
    "name": "ipython",
    "version": 3
   },
   "file_extension": ".py",
   "mimetype": "text/x-python",
   "name": "python",
   "nbconvert_exporter": "python",
   "pygments_lexer": "ipython3",
   "version": "3.9.13"
  }
 },
 "nbformat": 4,
 "nbformat_minor": 5
}
